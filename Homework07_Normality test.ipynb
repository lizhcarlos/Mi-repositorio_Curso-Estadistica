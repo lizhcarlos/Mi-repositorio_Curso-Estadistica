{
 "cells": [
  {
   "cell_type": "markdown",
   "id": "026362cc",
   "metadata": {},
   "source": [
    "### Homework 3: Normality test for DIC and Salinity parameters"
   ]
  },
  {
   "cell_type": "markdown",
   "id": "7cf53d83",
   "metadata": {},
   "source": [
    "1. Respond to the following quetsion: When's it appropiate to use the Kolmogorov-Smirnov test instead of the Shapiro-Wilk test?\n",
    "\n",
    "R: It's appropriate to use the Kolmogorov-Smirnov test when the theoretical CDF's statistical parameters, such as the mean and standard deviation, are known. Additionally, it is recommended to use it with samples larger than 50 elements (Lilliefors, 1967)."
   ]
  },
  {
   "cell_type": "markdown",
   "id": "90423a41",
   "metadata": {},
   "source": [
    "2. Based on the previous answer, performed the appropriate test to asses normality in the DIC (Dissolved Inorganic Carbon) and Salinity datasets."
   ]
  },
  {
   "cell_type": "code",
   "execution_count": 9,
   "id": "4eb4ca36",
   "metadata": {},
   "outputs": [],
   "source": [
    "def import_csv (file):\n",
    "    import pandas as pd\n",
    "    return pd.read_csv (file)"
   ]
  },
  {
   "cell_type": "code",
   "execution_count": 10,
   "id": "d36741f1",
   "metadata": {},
   "outputs": [],
   "source": [
    "# Path to the file to be imported\n",
    "path = \"Course_data.csv\"\n",
    "\n",
    "# Import the file and convert to a dataframe\n",
    "data_df = import_csv(path)"
   ]
  },
  {
   "cell_type": "code",
   "execution_count": 11,
   "id": "5a6b3944",
   "metadata": {},
   "outputs": [],
   "source": [
    "DIC = data_df['dic_micromol_kg']\n",
    "S = data_df['sal_psu']"
   ]
  },
  {
   "cell_type": "markdown",
   "id": "a9cd3921",
   "metadata": {},
   "source": [
    "##### First, I've made an expolatory analysis in order to evaluate if normality is possible."
   ]
  },
  {
   "cell_type": "code",
   "execution_count": null,
   "id": "4563ed81",
   "metadata": {},
   "outputs": [],
   "source": [
    "import matplotlib.pyplot as plt\n",
    "####################### Histogram for DIC ####################### \n",
    "plt.hist(DIC, bins=10)"
   ]
  },
  {
   "cell_type": "code",
   "execution_count": null,
   "id": "c36c9c5f",
   "metadata": {},
   "outputs": [],
   "source": [
    "####################### Histogram for Salinity #######################\n",
    "plt.hist(S, bins=10)"
   ]
  },
  {
   "cell_type": "markdown",
   "id": "4587341a",
   "metadata": {},
   "source": [
    "###### It semmed that both datasets do not follow a normal distribution.\n",
    "###### So, let's find out. Base on the previous answer, I decided to evaluate normality by using Shapiro-Wilk test."
   ]
  },
  {
   "cell_type": "code",
   "execution_count": null,
   "id": "15c29b88",
   "metadata": {},
   "outputs": [],
   "source": [
    "from scipy.stats import shapiro\n",
    "\n",
    "####################### Shapiro-Wilk for DIC ####################### \n",
    "\n",
    "sDIC, pDIC = shapiro(DIC) #stat= estadístico; p= p-value\n",
    "print(f'Estadístico= {sDIC:.4f}, p-valor= {pDIC:.10f}') # .4f 4= no. de decimales\n",
    "if pDIC > 0.05:\n",
    "    print('The DIC dataset follows a normal distribution (H0 is not rejected)')\n",
    "else:\n",
    "    print('The DIC dataset does not follow a normal distribution (H0 is rejected)')"
   ]
  },
  {
   "cell_type": "code",
   "execution_count": null,
   "id": "97a004c1",
   "metadata": {},
   "outputs": [],
   "source": [
    "sS, pS = shapiro(S) #stat= estadístico; p= p-value\n",
    "print(f'Estadístico= {sS:.4f}, p-valor= {pS:.10f}') \n",
    "if pS > 0.05:\n",
    "    print('The salinity dataset follows a normal distribution (H0 is not rejected)')\n",
    "else:\n",
    "    print('The salinity dataset does not follow a normal distribution (H0 is rejected))"
   ]
  },
  {
   "cell_type": "markdown",
   "id": "cedab3e0",
   "metadata": {},
   "source": [
    "##### Conclusion: **Both datasets do not follow a normal distribution, as confirmed by the Shapiro-Wilk test.**"
   ]
  },
  {
   "cell_type": "markdown",
   "id": "af509f0e",
   "metadata": {},
   "source": [
    "Reference: \n",
    "Lilliefors, H. W. (1967). On the Kolmogorov-Smirnov test for normality with mean and variance unknown. Journal of the American statistical Association, 62(318), 399-402."
   ]
  }
 ],
 "metadata": {
  "kernelspec": {
   "display_name": "base",
   "language": "python",
   "name": "python3"
  },
  "language_info": {
   "codemirror_mode": {
    "name": "ipython",
    "version": 3
   },
   "file_extension": ".py",
   "mimetype": "text/x-python",
   "name": "python",
   "nbconvert_exporter": "python",
   "pygments_lexer": "ipython3",
   "version": "3.12.3"
  }
 },
 "nbformat": 4,
 "nbformat_minor": 5
}
