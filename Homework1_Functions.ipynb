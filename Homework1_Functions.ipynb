{
 "cells": [
  {
   "cell_type": "markdown",
   "id": "f81c4094",
   "metadata": {},
   "source": [
    "*Homework: Composite function which return the absolute value of a number*\n",
    "\n",
    "Lizeth Carlos"
   ]
  },
  {
   "cell_type": "code",
   "execution_count": 1,
   "id": "05c27ced",
   "metadata": {},
   "outputs": [],
   "source": [
    "def absolute_value (x):\n",
    "    if x < 0:\n",
    "        return x * -1\n",
    "    else:\n",
    "        return x"
   ]
  },
  {
   "cell_type": "code",
   "execution_count": 2,
   "id": "68f552ba",
   "metadata": {},
   "outputs": [
    {
     "data": {
      "text/plain": [
       "45"
      ]
     },
     "execution_count": 2,
     "metadata": {},
     "output_type": "execute_result"
    }
   ],
   "source": [
    "absolute_value (-45)"
   ]
  },
  {
   "cell_type": "code",
   "execution_count": null,
   "id": "b1be896d",
   "metadata": {},
   "outputs": [],
   "source": []
  }
 ],
 "metadata": {
  "kernelspec": {
   "display_name": "base",
   "language": "python",
   "name": "python3"
  },
  "language_info": {
   "codemirror_mode": {
    "name": "ipython",
    "version": 3
   },
   "file_extension": ".py",
   "mimetype": "text/x-python",
   "name": "python",
   "nbconvert_exporter": "python",
   "pygments_lexer": "ipython3",
   "version": "3.12.3"
  }
 },
 "nbformat": 4,
 "nbformat_minor": 5
}
