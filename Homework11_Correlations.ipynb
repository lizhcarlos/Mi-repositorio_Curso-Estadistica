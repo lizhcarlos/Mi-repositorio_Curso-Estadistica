{
 "cells": [
  {
   "cell_type": "markdown",
   "id": "d759d3e9",
   "metadata": {},
   "source": [
    "### Homework 11: Spearman correlation and Pearson correlation coefficient"
   ]
  },
  {
   "cell_type": "code",
   "execution_count": 3,
   "id": "45287f5e",
   "metadata": {},
   "outputs": [],
   "source": [
    "# Import library and read data with pandas \n",
    "import pandas as pd\n",
    "data = pd.read_csv(\"Course_data.csv\")"
   ]
  },
  {
   "cell_type": "code",
   "execution_count": 17,
   "id": "4bc5ae50",
   "metadata": {},
   "outputs": [
    {
     "name": "stdout",
     "output_type": "stream",
     "text": [
      "Pearson's correlation coefficient (r): 0.882\n",
      "p-value: 8.179416835112241e-36\n",
      "Significant correlation\n",
      "📈 Positive correlation\n"
     ]
    }
   ],
   "source": [
    "from scipy.stats import pearsonr\n",
    "\n",
    "corr, pval = pearsonr(data[\"ta_micromol_kg\"], data[\"dic_micromol_kg\"])\n",
    "\n",
    "print(f\"Pearson's correlation coefficient (r): {corr:.3f}\")\n",
    "print(f\"p-value: {pval}\")\n",
    "\n",
    "if pval < 0.05:\n",
    "    print(\"Significant correlation\")\n",
    "else:\n",
    "    print(\"No significant correlation\")\n",
    "\n",
    "if corr > 0:\n",
    "    print(\"📈 Positive correlation\")\n",
    "else:\n",
    "    print(\"📉 Negative correlation\")"
   ]
  }
 ],
 "metadata": {
  "kernelspec": {
   "display_name": "base",
   "language": "python",
   "name": "python3"
  },
  "language_info": {
   "codemirror_mode": {
    "name": "ipython",
    "version": 3
   },
   "file_extension": ".py",
   "mimetype": "text/x-python",
   "name": "python",
   "nbconvert_exporter": "python",
   "pygments_lexer": "ipython3",
   "version": "3.12.3"
  }
 },
 "nbformat": 4,
 "nbformat_minor": 5
}
