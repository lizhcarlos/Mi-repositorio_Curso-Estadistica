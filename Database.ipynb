{
 "cells": [
  {
   "cell_type": "code",
   "execution_count": null,
   "id": "82a4c19f",
   "metadata": {},
   "outputs": [],
   "source": [
    "def import_csv (file):\n",
    "    import pandas as pd\n",
    "    return pd.read_csv (file)"
   ]
  },
  {
   "cell_type": "code",
   "execution_count": null,
   "id": "06fc7004",
   "metadata": {},
   "outputs": [],
   "source": [
    "# Path to the file to be imported\n",
    "path = \"Microtxt.csv\"\n",
    "\n",
    "# Import the file and convert to a dataframe\n",
    "Microtxt_df = import_csv(path)"
   ]
  },
  {
   "cell_type": "code",
   "execution_count": null,
   "id": "6a8c402f",
   "metadata": {},
   "outputs": [],
   "source": [
    "print(Microtxt_df.head(10))"
   ]
  },
  {
   "cell_type": "code",
   "execution_count": null,
   "id": "0b15a13b",
   "metadata": {},
   "outputs": [],
   "source": [
    "print(Microtxt_df.info())\n",
    "Microtxt_df.shape"
   ]
  },
  {
   "cell_type": "code",
   "execution_count": null,
   "id": "f819dce7",
   "metadata": {},
   "outputs": [],
   "source": [
    "print(Microtxt_df.describe()) #estadística básica"
   ]
  },
  {
   "cell_type": "code",
   "execution_count": null,
   "id": "12ca5d96",
   "metadata": {},
   "outputs": [],
   "source": [
    "print(Microtxt_df.columns) #imprimir nombre de columnas"
   ]
  },
  {
   "cell_type": "code",
   "execution_count": null,
   "id": "7701c732",
   "metadata": {},
   "outputs": [],
   "source": [
    "LC= Microtxt_df ['lc']"
   ]
  },
  {
   "cell_type": "code",
   "execution_count": null,
   "id": "3102d386",
   "metadata": {},
   "outputs": [],
   "source": [
    "LC"
   ]
  },
  {
   "cell_type": "code",
   "execution_count": null,
   "id": "63ac6545",
   "metadata": {},
   "outputs": [],
   "source": [
    "sdg = Microtxt_df['g']"
   ]
  },
  {
   "cell_type": "code",
   "execution_count": null,
   "id": "c59318f9",
   "metadata": {},
   "outputs": [],
   "source": [
    "#Estadística básica para 1 variable\n",
    "sdg.mean()\n",
    "sdg.plot()"
   ]
  },
  {
   "cell_type": "code",
   "execution_count": null,
   "id": "e645757d",
   "metadata": {},
   "outputs": [],
   "source": [
    "sd_g_lc =Microtxt_df[['g', 'lc']]"
   ]
  },
  {
   "cell_type": "code",
   "execution_count": null,
   "id": "8075043c",
   "metadata": {},
   "outputs": [],
   "source": [
    "sd_g_lc.plot"
   ]
  },
  {
   "cell_type": "code",
   "execution_count": null,
   "id": "a12aff2c",
   "metadata": {},
   "outputs": [],
   "source": [
    "lc11= Microtxt_df[Microtxt_df['lc'] >= 11] #filtrar un valor específico"
   ]
  },
  {
   "cell_type": "code",
   "execution_count": null,
   "id": "3aed8086",
   "metadata": {},
   "outputs": [],
   "source": [
    "lc11"
   ]
  },
  {
   "cell_type": "code",
   "execution_count": null,
   "id": "aa780383",
   "metadata": {},
   "outputs": [],
   "source": [
    "lc_no_11= Microtxt_df[Microtxt_df['lc'] != 11] # != diferente que"
   ]
  },
  {
   "cell_type": "code",
   "execution_count": null,
   "id": "aa70f373",
   "metadata": {},
   "outputs": [],
   "source": [
    "lc_no_11"
   ]
  },
  {
   "cell_type": "code",
   "execution_count": null,
   "id": "46a4cf54",
   "metadata": {},
   "outputs": [],
   "source": [
    "localidades = ['lc','g','lv']"
   ]
  },
  {
   "cell_type": "markdown",
   "id": "2ddb95ef",
   "metadata": {},
   "source": [
    "### Method to use for filling holes "
   ]
  },
  {
   "cell_type": "code",
   "execution_count": null,
   "id": "5e193238",
   "metadata": {},
   "outputs": [],
   "source": [
    "\n",
    "\n",
    "\n"
   ]
  }
 ],
 "metadata": {
  "kernelspec": {
   "display_name": "base",
   "language": "python",
   "name": "python3"
  },
  "language_info": {
   "codemirror_mode": {
    "name": "ipython",
    "version": 3
   },
   "file_extension": ".py",
   "mimetype": "text/x-python",
   "name": "python",
   "nbconvert_exporter": "python",
   "pygments_lexer": "ipython3",
   "version": "3.12.3"
  }
 },
 "nbformat": 4,
 "nbformat_minor": 5
}
