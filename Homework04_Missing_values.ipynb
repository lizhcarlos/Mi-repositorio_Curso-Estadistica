{
 "cells": [
  {
   "cell_type": "markdown",
   "id": "6d761942",
   "metadata": {},
   "source": [
    "### Homework 4"
   ]
  },
  {
   "cell_type": "code",
   "execution_count": 1,
   "id": "88613fd6",
   "metadata": {},
   "outputs": [],
   "source": [
    "def import_csv (file):\n",
    "    import pandas as pd\n",
    "    return pd.read_csv (file)"
   ]
  },
  {
   "cell_type": "code",
   "execution_count": 2,
   "id": "b3b7aa1f",
   "metadata": {},
   "outputs": [],
   "source": [
    "# Import the file and convert to a dataframe\n",
    "data_df = import_csv(\"Course_data.csv\")"
   ]
  },
  {
   "cell_type": "code",
   "execution_count": null,
   "id": "5d15446e",
   "metadata": {},
   "outputs": [],
   "source": [
    "data_df.info()"
   ]
  },
  {
   "cell_type": "markdown",
   "id": "ba04ebda",
   "metadata": {},
   "source": [
    "* Create a new column called \"TA_DIC_ratio\" that is the ratio of TA to DIC"
   ]
  },
  {
   "cell_type": "code",
   "execution_count": 4,
   "id": "68e7cfed",
   "metadata": {},
   "outputs": [],
   "source": [
    "data_df['TA_DIC_ratio'] = data_df['ta_micromol_kg']/data_df['dic_micromol_kg']"
   ]
  },
  {
   "cell_type": "markdown",
   "id": "fe53a6a5",
   "metadata": {},
   "source": [
    "* Calculate the mean and standard deviation of the \"TA_DIC_ratio\" for each season"
   ]
  },
  {
   "cell_type": "code",
   "execution_count": 5,
   "id": "a515935a",
   "metadata": {},
   "outputs": [],
   "source": [
    "data_df[\"TA_DIC_ratio_mean_season\"] = data_df.groupby(\"season\")[\"TA_DIC_ratio\"].transform(\"mean\")\n",
    "data_df[\"TA_DIC_ratio_std_season\"] = data_df.groupby(\"season\")[\"TA_DIC_ratio\"].transform(\"std\")"
   ]
  },
  {
   "cell_type": "markdown",
   "id": "facfa3ef",
   "metadata": {},
   "source": [
    "* Calculate the mean and standard deviation of the \"TA_DIC_ratio\" for each season and area"
   ]
  },
  {
   "cell_type": "code",
   "execution_count": 9,
   "id": "4e86df9b",
   "metadata": {},
   "outputs": [],
   "source": [
    "data_df['TA_DIC_ratio_mean_season_area']= data_df.groupby([\"season\",\"area\"])[\"TA_DIC_ratio\"].transform(\"mean\")\n",
    "data_df['TA_DIC_ratio_std_season_area']= data_df.groupby([\"season\",\"area\"])[\"TA_DIC_ratio\"].transform(\"std\")"
   ]
  },
  {
   "cell_type": "markdown",
   "id": "2c23b5dc",
   "metadata": {},
   "source": [
    "* Save the results to an Excel file called \"TA_DIC_Season_Areas.xlsx\""
   ]
  },
  {
   "cell_type": "code",
   "execution_count": 11,
   "id": "a3c4e549",
   "metadata": {},
   "outputs": [],
   "source": [
    "data_df.to_excel(\"TA_DIC_Season_Areas.xlsx\", index=False)"
   ]
  }
 ],
 "metadata": {
  "kernelspec": {
   "display_name": "base",
   "language": "python",
   "name": "python3"
  },
  "language_info": {
   "codemirror_mode": {
    "name": "ipython",
    "version": 3
   },
   "file_extension": ".py",
   "mimetype": "text/x-python",
   "name": "python",
   "nbconvert_exporter": "python",
   "pygments_lexer": "ipython3",
   "version": "3.12.3"
  }
 },
 "nbformat": 4,
 "nbformat_minor": 5
}
