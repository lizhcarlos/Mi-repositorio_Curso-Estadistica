{
 "cells": [
  {
   "cell_type": "markdown",
   "id": "aa9fdbab",
   "metadata": {},
   "source": [
    "# Programa para generar funciones"
   ]
  },
  {
   "cell_type": "code",
   "execution_count": 2,
   "id": "8364c24b",
   "metadata": {},
   "outputs": [],
   "source": [
    "def saludar():\n",
    "    print(\"Hola mundo\")"
   ]
  },
  {
   "cell_type": "code",
   "execution_count": null,
   "id": "3ed7ba62",
   "metadata": {},
   "outputs": [
    {
     "name": "stdout",
     "output_type": "stream",
     "text": [
      "Hola mundo\n"
     ]
    }
   ],
   "source": [
    "saludar() #Llamar a la función"
   ]
  },
  {
   "cell_type": "code",
   "execution_count": 24,
   "id": "556e8ef9",
   "metadata": {},
   "outputs": [],
   "source": [
    "def suma(a, b):\n",
    "    return a + b"
   ]
  },
  {
   "cell_type": "code",
   "execution_count": 10,
   "id": "4d221af9",
   "metadata": {},
   "outputs": [
    {
     "name": "stdout",
     "output_type": "stream",
     "text": [
      "10\n"
     ]
    }
   ],
   "source": [
    "resultado = suma (3, 2)\n",
    "print(resultado)  #Salida de la suma"
   ]
  },
  {
   "cell_type": "code",
   "execution_count": 12,
   "id": "070fb697",
   "metadata": {},
   "outputs": [],
   "source": [
    "def add_two (num1):\n",
    "    result = num1 + 2\n",
    "    return result"
   ]
  },
  {
   "cell_type": "code",
   "execution_count": 13,
   "id": "124787de",
   "metadata": {},
   "outputs": [
    {
     "name": "stdout",
     "output_type": "stream",
     "text": [
      "12\n"
     ]
    }
   ],
   "source": [
    "print(add_two(10))"
   ]
  },
  {
   "cell_type": "code",
   "execution_count": 25,
   "id": "e1d9e0b2",
   "metadata": {},
   "outputs": [],
   "source": [
    "def square_number (num):\n",
    "    return num * num\n",
    "#print(square_number(6))"
   ]
  },
  {
   "cell_type": "code",
   "execution_count": null,
   "id": "7523e067",
   "metadata": {},
   "outputs": [
    {
     "name": "stdout",
     "output_type": "stream",
     "text": [
      "391\n"
     ]
    }
   ],
   "source": [
    "def multply_two_numbers (num1, num2):\n",
    "    return num1 * num2\n",
    "print(multply_two_numbers(17, 23))"
   ]
  },
  {
   "cell_type": "markdown",
   "id": "0a67c239",
   "metadata": {},
   "source": [
    "### Funciones compuestas"
   ]
  },
  {
   "cell_type": "code",
   "execution_count": null,
   "id": "caeef605",
   "metadata": {},
   "outputs": [],
   "source": [
    "## Funciones que suma dos números y eleva el resultado al cuadrado\n",
    "## Antes se deben correr las dos primeras funciones\n",
    "def square_of_sum (num1, num2):\n",
    "    return square_number(suma(num1, num2))"
   ]
  },
  {
   "cell_type": "code",
   "execution_count": 26,
   "id": "0e1524cd",
   "metadata": {},
   "outputs": [
    {
     "name": "stdout",
     "output_type": "stream",
     "text": [
      "256\n"
     ]
    }
   ],
   "source": [
    "print (square_of_sum(7,9))"
   ]
  },
  {
   "cell_type": "markdown",
   "id": "09f41cbf",
   "metadata": {},
   "source": [
    "Example 2"
   ]
  },
  {
   "cell_type": "markdown",
   "id": "981d3244",
   "metadata": {},
   "source": [
    "### $$ f(x) =\\frac{1}{x+3}$$"
   ]
  },
  {
   "cell_type": "code",
   "execution_count": 28,
   "id": "ebb0fd16",
   "metadata": {},
   "outputs": [],
   "source": [
    "def add_tree (x):\n",
    "    return x + 3"
   ]
  },
  {
   "cell_type": "code",
   "execution_count": 29,
   "id": "375b1ee9",
   "metadata": {},
   "outputs": [
    {
     "name": "stdout",
     "output_type": "stream",
     "text": [
      "4\n"
     ]
    }
   ],
   "source": [
    "print(add_tree(1))"
   ]
  },
  {
   "cell_type": "code",
   "execution_count": 30,
   "id": "805b37e5",
   "metadata": {},
   "outputs": [],
   "source": [
    "def reciprocal (f):\n",
    "    return 1/f"
   ]
  },
  {
   "cell_type": "code",
   "execution_count": 31,
   "id": "a86d7c21",
   "metadata": {},
   "outputs": [],
   "source": [
    "#Composition of two functions\n",
    "def composite_function(x):\n",
    "    return reciprocal(add_tree(x))"
   ]
  },
  {
   "cell_type": "code",
   "execution_count": 32,
   "id": "a3650781",
   "metadata": {},
   "outputs": [
    {
     "data": {
      "text/plain": [
       "0.25"
      ]
     },
     "execution_count": 32,
     "metadata": {},
     "output_type": "execute_result"
    }
   ],
   "source": [
    "composite_function(1)"
   ]
  },
  {
   "cell_type": "markdown",
   "id": "8a3fa400",
   "metadata": {},
   "source": [
    "Example 3"
   ]
  },
  {
   "cell_type": "markdown",
   "id": "4dc1cee9",
   "metadata": {},
   "source": [
    "$$ f(x) =\\frac{1}{\\frac{1}{x+3}+ 3}$$"
   ]
  },
  {
   "cell_type": "code",
   "execution_count": 33,
   "id": "9dfae154",
   "metadata": {},
   "outputs": [
    {
     "data": {
      "text/plain": [
       "0.3076923076923077"
      ]
     },
     "execution_count": 33,
     "metadata": {},
     "output_type": "execute_result"
    }
   ],
   "source": [
    "composite_function(composite_function(1))"
   ]
  },
  {
   "cell_type": "code",
   "execution_count": null,
   "id": "658cd942",
   "metadata": {},
   "outputs": [
    {
     "data": {
      "text/plain": [
       "0.3076923076923077"
      ]
     },
     "execution_count": 35,
     "metadata": {},
     "output_type": "execute_result"
    }
   ],
   "source": [
    "#Verificación\n",
    "1/((1/1+3)+3)"
   ]
  },
  {
   "cell_type": "markdown",
   "id": "9602bcf0",
   "metadata": {},
   "source": [
    "Exercise 4"
   ]
  },
  {
   "cell_type": "code",
   "execution_count": 2,
   "id": "3ffce81c",
   "metadata": {},
   "outputs": [],
   "source": [
    "## Función que regresa el máximo de dos números\n",
    "\n",
    "def max (num1, num2):\n",
    "    if num1 > num2:\n",
    "        print (num1)\n",
    "    else:\n",
    "        print  (num2)"
   ]
  },
  {
   "cell_type": "code",
   "execution_count": 3,
   "id": "23c3530a",
   "metadata": {},
   "outputs": [
    {
     "name": "stdout",
     "output_type": "stream",
     "text": [
      "4589\n"
     ]
    }
   ],
   "source": [
    "max (3876, 4589)"
   ]
  },
  {
   "cell_type": "markdown",
   "id": "ce8ee31c",
   "metadata": {},
   "source": [
    "Exercise 5"
   ]
  },
  {
   "cell_type": "code",
   "execution_count": 18,
   "id": "88f92ac2",
   "metadata": {},
   "outputs": [
    {
     "name": "stdout",
     "output_type": "stream",
     "text": [
      "120\n"
     ]
    }
   ],
   "source": [
    "# Factorial de un número entero positivo\n",
    "def factorial (x):\n",
    "    f = 1\n",
    "    for i in range(1, x+1):\n",
    "        f= f*i\n",
    "    return f\n",
    "print (factorial(5))"
   ]
  },
  {
   "cell_type": "markdown",
   "id": "a8b3e39e",
   "metadata": {},
   "source": [
    "Exercise 6"
   ]
  },
  {
   "cell_type": "code",
   "execution_count": 25,
   "id": "41c22957",
   "metadata": {},
   "outputs": [],
   "source": [
    "def conversion (x):\n",
    "    F = (x*9/5)+32\n",
    "    return F"
   ]
  },
  {
   "cell_type": "code",
   "execution_count": 24,
   "id": "a6e20e44",
   "metadata": {},
   "outputs": [
    {
     "data": {
      "text/plain": [
       "32.0"
      ]
     },
     "execution_count": 24,
     "metadata": {},
     "output_type": "execute_result"
    }
   ],
   "source": [
    "conversion (0)"
   ]
  },
  {
   "cell_type": "markdown",
   "id": "f46a12f3",
   "metadata": {},
   "source": [
    "*Homework: Composite function which return the absolute value of a number*"
   ]
  },
  {
   "cell_type": "markdown",
   "id": "daef3333",
   "metadata": {},
   "source": []
  },
  {
   "cell_type": "code",
   "execution_count": null,
   "id": "a5c807ae",
   "metadata": {},
   "outputs": [
    {
     "ename": "SyntaxError",
     "evalue": "expected ':' (3055916884.py, line 4)",
     "output_type": "error",
     "traceback": [
      "\u001b[1;36m  Cell \u001b[1;32mIn[39], line 4\u001b[1;36m\u001b[0m\n\u001b[1;33m    else\u001b[0m\n\u001b[1;37m        ^\u001b[0m\n\u001b[1;31mSyntaxError\u001b[0m\u001b[1;31m:\u001b[0m expected ':'\n"
     ]
    }
   ],
   "source": [
    "def absolute_value (x):\n",
    "    if x < 0:\n",
    "        return x * -1\n",
    "    else:\n",
    "        return x\n"
   ]
  },
  {
   "cell_type": "code",
   "execution_count": null,
   "id": "cf3d94b1",
   "metadata": {},
   "outputs": [
    {
     "data": {
      "text/plain": [
       "45"
      ]
     },
     "execution_count": 40,
     "metadata": {},
     "output_type": "execute_result"
    }
   ],
   "source": [
    "absolute_value (-45)"
   ]
  },
  {
   "cell_type": "code",
   "execution_count": null,
   "id": "a2786b82",
   "metadata": {},
   "outputs": [],
   "source": []
  }
 ],
 "metadata": {
  "kernelspec": {
   "display_name": "base",
   "language": "python",
   "name": "python3"
  },
  "language_info": {
   "codemirror_mode": {
    "name": "ipython",
    "version": 3
   },
   "file_extension": ".py",
   "mimetype": "text/x-python",
   "name": "python",
   "nbconvert_exporter": "python",
   "pygments_lexer": "ipython3",
   "version": "3.12.3"
  }
 },
 "nbformat": 4,
 "nbformat_minor": 5
}
